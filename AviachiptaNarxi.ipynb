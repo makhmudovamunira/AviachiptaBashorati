{
  "nbformat": 4,
  "nbformat_minor": 0,
  "metadata": {
    "colab": {
      "private_outputs": true,
      "provenance": [],
      "authorship_tag": "ABX9TyObTiQKZm/K8SBM1qXfjtkD",
      "include_colab_link": true
    },
    "kernelspec": {
      "name": "python3",
      "display_name": "Python 3"
    },
    "language_info": {
      "name": "python"
    }
  },
  "cells": [
    {
      "cell_type": "markdown",
      "metadata": {
        "id": "view-in-github",
        "colab_type": "text"
      },
      "source": [
        "<a href=\"https://colab.research.google.com/github/makhmudovamunira/AviachiptaBashorati/blob/main/AviachiptaNarxi.ipynb\" target=\"_parent\"><img src=\"https://colab.research.google.com/assets/colab-badge.svg\" alt=\"Open In Colab\"/></a>"
      ]
    },
    {
      "cell_type": "code",
      "execution_count": null,
      "metadata": {
        "id": "XfVt1BTOQD9p"
      },
      "outputs": [],
      "source": [
        "import pandas as pd\n",
        "import numpy as np\n",
        "import matplotlib.pyplot as plt\n",
        "import seaborn as sns\n",
        "%matplotlib inline\n",
        "from sklearn.preprocessing import OneHotEncoder\n",
        "from sklearn.pipeline import Pipeline\n",
        "from sklearn.preprocessing import StandardScaler\n",
        "from sklearn.compose import ColumnTransformer\n",
        "from sklearn.neighbors import KNeighborsClassifier\n",
        "from sklearn.model_selection import train_test_split\n",
        "from sklearn.metrics import accuracy_score\n",
        "from sklearn.metrics import mean_squared_error"
      ]
    },
    {
      "cell_type": "code",
      "source": [
        "df=pd.read_csv('https://github.com/makhmudovamunira/AviachiptaBashorati/blob/main/train_data.csv?raw=true')\n",
        "df.head()"
      ],
      "metadata": {
        "id": "hjKjBMhLQJFJ"
      },
      "execution_count": null,
      "outputs": []
    },
    {
      "cell_type": "markdown",
      "source": [
        "Dastlab datasetdagi maluotlar o'lchami aniqlab olamiz"
      ],
      "metadata": {
        "id": "_nDD_YBGIVhB"
      }
    },
    {
      "cell_type": "code",
      "source": [
        "df.shape"
      ],
      "metadata": {
        "id": "U6A5L8TbS-Xe"
      },
      "execution_count": null,
      "outputs": []
    },
    {
      "cell_type": "markdown",
      "source": [
        "Endi, dataset haqida malumotlarni ko'ramiz, yani har not null qiymatlar mavjudmi yoqmi"
      ],
      "metadata": {
        "id": "DNqR4Z4-IaNH"
      }
    },
    {
      "cell_type": "code",
      "source": [
        "df.info()"
      ],
      "metadata": {
        "id": "URFezrMzXjyu"
      },
      "execution_count": null,
      "outputs": []
    },
    {
      "cell_type": "markdown",
      "source": [
        "Endi esa ma'lumotlarni tozalaymiz"
      ],
      "metadata": {
        "id": "ef0cjR9FIl07"
      }
    },
    {
      "cell_type": "code",
      "source": [
        "X=df.drop(columns=['id','flight','departure_time','arrival_time', 'price'])\n",
        "y=df['price'].copy()\n",
        "X.replace({'Economy':0, 'Business':1}, inplace=True)"
      ],
      "metadata": {
        "id": "Ce53ZzKCALmc"
      },
      "execution_count": null,
      "outputs": []
    },
    {
      "cell_type": "code",
      "source": [
        "X.head()"
      ],
      "metadata": {
        "id": "GRbDNnneq5LJ"
      },
      "execution_count": null,
      "outputs": []
    },
    {
      "cell_type": "markdown",
      "source": [
        "Malumotlarni trainga tayyorlaymiz"
      ],
      "metadata": {
        "id": "9vT3CJLPVhwt"
      }
    },
    {
      "cell_type": "code",
      "source": [
        "X['duration']=X['duration']/X['duration'].max()\n",
        "X['days_left']=X['days_left']/X['days_left'].max()\n",
        "X.head()"
      ],
      "metadata": {
        "id": "HItED12ZMYOj"
      },
      "execution_count": null,
      "outputs": []
    },
    {
      "cell_type": "code",
      "source": [
        "encoded=X[['airline','source_city','stops','destination_city']]\n",
        "encoded=pd.get_dummies(encoded).astype(int)\n",
        "X=X.drop(['airline','source_city','stops','destination_city'], axis='columns')\n",
        "X=pd.concat([X, encoded], axis=1)\n",
        "X.head()"
      ],
      "metadata": {
        "id": "pK12rbNOY0DG"
      },
      "execution_count": null,
      "outputs": []
    },
    {
      "cell_type": "markdown",
      "source": [
        "Train va Test splitlarga ajratib olamiz"
      ],
      "metadata": {
        "id": "C5dHRMEstfJv"
      }
    },
    {
      "cell_type": "code",
      "source": [
        "x_train, X_test, y_train, y_test=train_test_split(X, y, test_size=32)"
      ],
      "metadata": {
        "id": "HW5MLNNLtiqc"
      },
      "execution_count": null,
      "outputs": []
    },
    {
      "cell_type": "markdown",
      "source": [
        "Model yaratamiz"
      ],
      "metadata": {
        "id": "Yc37sy5ypYEx"
      }
    },
    {
      "cell_type": "markdown",
      "source": [
        "###Support Vector Machine"
      ],
      "metadata": {
        "id": "Ub_OE4uP1Bxy"
      }
    },
    {
      "cell_type": "code",
      "source": [
        "from sklearn.svm import SVC\n",
        "svm=SVC(kernel='poly')\n",
        "svm.fit(x_train, y_train)\n",
        "y_pred=svm.predict(X_test)\n",
        "mse=np.sqrt(mean_squared_error(y_test, y_pred))\n",
        "mse"
      ],
      "metadata": {
        "id": "qVBJiQ5Rz7M7"
      },
      "execution_count": null,
      "outputs": []
    }
  ]
}